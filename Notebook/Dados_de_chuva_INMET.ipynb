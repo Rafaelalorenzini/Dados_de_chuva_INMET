{
  "nbformat": 4,
  "nbformat_minor": 0,
  "metadata": {
    "colab": {
      "name": "Dados de chuva INMET.ipynb",
      "provenance": [],
      "authorship_tag": "ABX9TyPRVHWVou9BoomP3Hw6PWzY",
      "include_colab_link": true
    },
    "kernelspec": {
      "name": "python3",
      "display_name": "Python 3"
    },
    "language_info": {
      "name": "python"
    }
  },
  "cells": [
    {
      "cell_type": "markdown",
      "metadata": {
        "id": "view-in-github",
        "colab_type": "text"
      },
      "source": [
        "<a href=\"https://colab.research.google.com/github/Rafaelalorenzini/Dados_de_chuva_INMET/blob/main/Notebook/Dados_de_chuva_INMET.ipynb\" target=\"_parent\"><img src=\"https://colab.research.google.com/assets/colab-badge.svg\" alt=\"Open In Colab\"/></a>"
      ]
    },
    {
      "cell_type": "code",
      "metadata": {
        "id": "pFYfK0JsaX1-",
        "colab": {
          "base_uri": "https://localhost:8080/"
        },
        "outputId": "6c763d17-ff26-4aa4-e860-a5e6804678fb"
      },
      "source": [
        "from google.colab import drive\n",
        "drive.mount('/content/drive')"
      ],
      "execution_count": null,
      "outputs": [
        {
          "output_type": "stream",
          "text": [
            "Drive already mounted at /content/drive; to attempt to forcibly remount, call drive.mount(\"/content/drive\", force_remount=True).\n"
          ],
          "name": "stdout"
        }
      ]
    },
    {
      "cell_type": "code",
      "metadata": {
        "id": "1Uk_x8ejFtM6"
      },
      "source": [
        "import re\n",
        "import os\n",
        "import pandas as pd\n",
        "from collections import namedtuple\n",
        "import numpy as np\n"
      ],
      "execution_count": null,
      "outputs": []
    },
    {
      "cell_type": "code",
      "metadata": {
        "id": "Pj-_PDOEXNv0"
      },
      "source": [
        "tabelatotaldechuva = pd.DataFrame()\n",
        "\n",
        "for file in sorted(os.listdir('/content/drive/MyDrive/tcc/Dados INMET')):\n",
        "  chuva = pd.read_csv('/content/drive/MyDrive/tcc/Dados INMET/'+str(file),sep=';', encoding='latin-1')\n",
        "  chuvatotal = chuva['PRECIPITAÇÃO TOTAL, HORÁRIO (mm)']\n",
        "  data = chuva['DATA (YYYY-MM-DD)']\n",
        "  temperatura = chuva['TEMPERATURA DO AR - BULBO SECO, HORARIA (°C)']\n",
        "  municipio = []\n",
        "  print(file)\n",
        "\n",
        "  for i in range(0,len(chuva),1):\n",
        "    municipio_ = file\n",
        "    municipio.append(municipio_)  \n",
        "\n",
        "  tabelachuva = pd.DataFrame(municipio)\n",
        "  tabelachuva['chuva_total'] = chuvatotal\n",
        "  tabelachuva['data'] = data\n",
        "  tabelachuva['temperatura'] = temperatura\n",
        "  tabelatotaldechuva = tabelatotaldechuva.append(tabelachuva)\n",
        "  \n"
      ],
      "execution_count": null,
      "outputs": []
    },
    {
      "cell_type": "code",
      "metadata": {
        "id": "dni0FEXkxnkt"
      },
      "source": [
        "tabelatotaldechuva.to_excel('dadosdechuva.xlsx', index = False)"
      ],
      "execution_count": null,
      "outputs": []
    },
    {
      "cell_type": "code",
      "metadata": {
        "colab": {
          "base_uri": "https://localhost:8080/",
          "height": 406
        },
        "id": "wIwhiPgGX5lH",
        "outputId": "5f74e273-e546-42a2-a8f8-c5ec1564720b"
      },
      "source": [
        "tabelatotaldechuva"
      ],
      "execution_count": null,
      "outputs": [
        {
          "output_type": "execute_result",
          "data": {
            "text/html": [
              "<div>\n",
              "<style scoped>\n",
              "    .dataframe tbody tr th:only-of-type {\n",
              "        vertical-align: middle;\n",
              "    }\n",
              "\n",
              "    .dataframe tbody tr th {\n",
              "        vertical-align: top;\n",
              "    }\n",
              "\n",
              "    .dataframe thead th {\n",
              "        text-align: right;\n",
              "    }\n",
              "</style>\n",
              "<table border=\"1\" class=\"dataframe\">\n",
              "  <thead>\n",
              "    <tr style=\"text-align: right;\">\n",
              "      <th></th>\n",
              "      <th>0</th>\n",
              "      <th>chuva_total</th>\n",
              "      <th>data</th>\n",
              "      <th>temperatura</th>\n",
              "    </tr>\n",
              "  </thead>\n",
              "  <tbody>\n",
              "    <tr>\n",
              "      <th>0</th>\n",
              "      <td>INMET_S_RS_A801_PORTO ALEGRE_01-01-2014_A_31-1...</td>\n",
              "      <td>0</td>\n",
              "      <td>01/01/2014</td>\n",
              "      <td>25,3</td>\n",
              "    </tr>\n",
              "    <tr>\n",
              "      <th>1</th>\n",
              "      <td>INMET_S_RS_A801_PORTO ALEGRE_01-01-2014_A_31-1...</td>\n",
              "      <td>0</td>\n",
              "      <td>01/01/2014</td>\n",
              "      <td>24,6</td>\n",
              "    </tr>\n",
              "    <tr>\n",
              "      <th>2</th>\n",
              "      <td>INMET_S_RS_A801_PORTO ALEGRE_01-01-2014_A_31-1...</td>\n",
              "      <td>0</td>\n",
              "      <td>01/01/2014</td>\n",
              "      <td>24,8</td>\n",
              "    </tr>\n",
              "    <tr>\n",
              "      <th>3</th>\n",
              "      <td>INMET_S_RS_A801_PORTO ALEGRE_01-01-2014_A_31-1...</td>\n",
              "      <td>0</td>\n",
              "      <td>01/01/2014</td>\n",
              "      <td>24,2</td>\n",
              "    </tr>\n",
              "    <tr>\n",
              "      <th>4</th>\n",
              "      <td>INMET_S_RS_A801_PORTO ALEGRE_01-01-2014_A_31-1...</td>\n",
              "      <td>0</td>\n",
              "      <td>01/01/2014</td>\n",
              "      <td>24,4</td>\n",
              "    </tr>\n",
              "    <tr>\n",
              "      <th>...</th>\n",
              "      <td>...</td>\n",
              "      <td>...</td>\n",
              "      <td>...</td>\n",
              "      <td>...</td>\n",
              "    </tr>\n",
              "    <tr>\n",
              "      <th>8779</th>\n",
              "      <td>INMET_S_RS_A899_Santa Vitoria do Palmar - Barr...</td>\n",
              "      <td>0</td>\n",
              "      <td>31/12/2020</td>\n",
              "      <td>21,3</td>\n",
              "    </tr>\n",
              "    <tr>\n",
              "      <th>8780</th>\n",
              "      <td>INMET_S_RS_A899_Santa Vitoria do Palmar - Barr...</td>\n",
              "      <td>0</td>\n",
              "      <td>31/12/2020</td>\n",
              "      <td>21,2</td>\n",
              "    </tr>\n",
              "    <tr>\n",
              "      <th>8781</th>\n",
              "      <td>INMET_S_RS_A899_Santa Vitoria do Palmar - Barr...</td>\n",
              "      <td>0</td>\n",
              "      <td>31/12/2020</td>\n",
              "      <td>20,9</td>\n",
              "    </tr>\n",
              "    <tr>\n",
              "      <th>8782</th>\n",
              "      <td>INMET_S_RS_A899_Santa Vitoria do Palmar - Barr...</td>\n",
              "      <td>0</td>\n",
              "      <td>31/12/2020</td>\n",
              "      <td>20,6</td>\n",
              "    </tr>\n",
              "    <tr>\n",
              "      <th>8783</th>\n",
              "      <td>INMET_S_RS_A899_Santa Vitoria do Palmar - Barr...</td>\n",
              "      <td>0</td>\n",
              "      <td>31/12/2020</td>\n",
              "      <td>19,7</td>\n",
              "    </tr>\n",
              "  </tbody>\n",
              "</table>\n",
              "<p>2535744 rows × 4 columns</p>\n",
              "</div>"
            ],
            "text/plain": [
              "                                                      0  ... temperatura\n",
              "0     INMET_S_RS_A801_PORTO ALEGRE_01-01-2014_A_31-1...  ...        25,3\n",
              "1     INMET_S_RS_A801_PORTO ALEGRE_01-01-2014_A_31-1...  ...        24,6\n",
              "2     INMET_S_RS_A801_PORTO ALEGRE_01-01-2014_A_31-1...  ...        24,8\n",
              "3     INMET_S_RS_A801_PORTO ALEGRE_01-01-2014_A_31-1...  ...        24,2\n",
              "4     INMET_S_RS_A801_PORTO ALEGRE_01-01-2014_A_31-1...  ...        24,4\n",
              "...                                                 ...  ...         ...\n",
              "8779  INMET_S_RS_A899_Santa Vitoria do Palmar - Barr...  ...        21,3\n",
              "8780  INMET_S_RS_A899_Santa Vitoria do Palmar - Barr...  ...        21,2\n",
              "8781  INMET_S_RS_A899_Santa Vitoria do Palmar - Barr...  ...        20,9\n",
              "8782  INMET_S_RS_A899_Santa Vitoria do Palmar - Barr...  ...        20,6\n",
              "8783  INMET_S_RS_A899_Santa Vitoria do Palmar - Barr...  ...        19,7\n",
              "\n",
              "[2535744 rows x 4 columns]"
            ]
          },
          "metadata": {
            "tags": []
          },
          "execution_count": 9
        }
      ]
    },
    {
      "cell_type": "code",
      "metadata": {
        "colab": {
          "base_uri": "https://localhost:8080/",
          "height": 406
        },
        "id": "cfE2AiN0Pxgo",
        "outputId": "be196b87-ada6-45ea-fb61-da043a599dfe"
      },
      "source": [
        "tabelachuva"
      ],
      "execution_count": null,
      "outputs": [
        {
          "output_type": "execute_result",
          "data": {
            "text/html": [
              "<div>\n",
              "<style scoped>\n",
              "    .dataframe tbody tr th:only-of-type {\n",
              "        vertical-align: middle;\n",
              "    }\n",
              "\n",
              "    .dataframe tbody tr th {\n",
              "        vertical-align: top;\n",
              "    }\n",
              "\n",
              "    .dataframe thead th {\n",
              "        text-align: right;\n",
              "    }\n",
              "</style>\n",
              "<table border=\"1\" class=\"dataframe\">\n",
              "  <thead>\n",
              "    <tr style=\"text-align: right;\">\n",
              "      <th></th>\n",
              "      <th>0</th>\n",
              "      <th>chuva_total</th>\n",
              "      <th>data</th>\n",
              "      <th>temperatura</th>\n",
              "    </tr>\n",
              "  </thead>\n",
              "  <tbody>\n",
              "    <tr>\n",
              "      <th>0</th>\n",
              "      <td>porto alegre</td>\n",
              "      <td>0</td>\n",
              "      <td>01/01/2018</td>\n",
              "      <td>23,3</td>\n",
              "    </tr>\n",
              "    <tr>\n",
              "      <th>1</th>\n",
              "      <td>porto alegre</td>\n",
              "      <td>0</td>\n",
              "      <td>01/01/2018</td>\n",
              "      <td>22,6</td>\n",
              "    </tr>\n",
              "    <tr>\n",
              "      <th>2</th>\n",
              "      <td>porto alegre</td>\n",
              "      <td>0</td>\n",
              "      <td>01/01/2018</td>\n",
              "      <td>22,2</td>\n",
              "    </tr>\n",
              "    <tr>\n",
              "      <th>3</th>\n",
              "      <td>porto alegre</td>\n",
              "      <td>0</td>\n",
              "      <td>01/01/2018</td>\n",
              "      <td>22,1</td>\n",
              "    </tr>\n",
              "    <tr>\n",
              "      <th>4</th>\n",
              "      <td>porto alegre</td>\n",
              "      <td>0</td>\n",
              "      <td>01/01/2018</td>\n",
              "      <td>21,8</td>\n",
              "    </tr>\n",
              "    <tr>\n",
              "      <th>...</th>\n",
              "      <td>...</td>\n",
              "      <td>...</td>\n",
              "      <td>...</td>\n",
              "      <td>...</td>\n",
              "    </tr>\n",
              "    <tr>\n",
              "      <th>8755</th>\n",
              "      <td>porto alegre</td>\n",
              "      <td>0</td>\n",
              "      <td>31/12/2018</td>\n",
              "      <td>29,8</td>\n",
              "    </tr>\n",
              "    <tr>\n",
              "      <th>8756</th>\n",
              "      <td>porto alegre</td>\n",
              "      <td>0</td>\n",
              "      <td>31/12/2018</td>\n",
              "      <td>29,3</td>\n",
              "    </tr>\n",
              "    <tr>\n",
              "      <th>8757</th>\n",
              "      <td>porto alegre</td>\n",
              "      <td>0</td>\n",
              "      <td>31/12/2018</td>\n",
              "      <td>28,6</td>\n",
              "    </tr>\n",
              "    <tr>\n",
              "      <th>8758</th>\n",
              "      <td>porto alegre</td>\n",
              "      <td>0</td>\n",
              "      <td>31/12/2018</td>\n",
              "      <td>27,4</td>\n",
              "    </tr>\n",
              "    <tr>\n",
              "      <th>8759</th>\n",
              "      <td>porto alegre</td>\n",
              "      <td>0</td>\n",
              "      <td>31/12/2018</td>\n",
              "      <td>26,4</td>\n",
              "    </tr>\n",
              "  </tbody>\n",
              "</table>\n",
              "<p>8760 rows × 4 columns</p>\n",
              "</div>"
            ],
            "text/plain": [
              "                 0 chuva_total        data temperatura\n",
              "0     porto alegre           0  01/01/2018        23,3\n",
              "1     porto alegre           0  01/01/2018        22,6\n",
              "2     porto alegre           0  01/01/2018        22,2\n",
              "3     porto alegre           0  01/01/2018        22,1\n",
              "4     porto alegre           0  01/01/2018        21,8\n",
              "...            ...         ...         ...         ...\n",
              "8755  porto alegre           0  31/12/2018        29,8\n",
              "8756  porto alegre           0  31/12/2018        29,3\n",
              "8757  porto alegre           0  31/12/2018        28,6\n",
              "8758  porto alegre           0  31/12/2018        27,4\n",
              "8759  porto alegre           0  31/12/2018        26,4\n",
              "\n",
              "[8760 rows x 4 columns]"
            ]
          },
          "metadata": {
            "tags": []
          },
          "execution_count": 52
        }
      ]
    },
    {
      "cell_type": "code",
      "metadata": {
        "id": "pNVNn_GmLLH3"
      },
      "source": [
        "municipio = []\n",
        "\n",
        "for i in range(0,len(chuva),1):\n",
        "  municipio_ = 'porto alegre'\n",
        "  municipio.append(municipio_)\n"
      ],
      "execution_count": null,
      "outputs": []
    },
    {
      "cell_type": "code",
      "metadata": {
        "colab": {
          "base_uri": "https://localhost:8080/"
        },
        "id": "dWOCCRQ_Lo5E",
        "outputId": "7f907c27-8c61-467b-cce4-c2b35d0e1431"
      },
      "source": [
        "len(municipio)"
      ],
      "execution_count": null,
      "outputs": [
        {
          "output_type": "execute_result",
          "data": {
            "text/plain": [
              "8760"
            ]
          },
          "metadata": {
            "tags": []
          },
          "execution_count": 30
        }
      ]
    }
  ]
}